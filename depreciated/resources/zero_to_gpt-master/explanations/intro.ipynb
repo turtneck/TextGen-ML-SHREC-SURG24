{
 "cells": [
  {
   "cell_type": "markdown",
   "metadata": {},
   "source": [
    "## Welcome!\n",
    "\n",
    "Welcome to the Zero to GPT course!  This course will take you from no deep learning knowledge to being able to train your own GPT model.\n",
    "\n",
    "At a high level, GPT works by predicting what words should come after your prompt.  Here's an example of some text you can feed into GPT, and a response:\n",
    "\n",
    "![gpt text](images/intro/gpt_text.svg)"
   ]
  },
  {
   "cell_type": "markdown",
   "source": [
    "GPT models are types of deep learning models.  Deep learning is a subfield of machine learning, which is a subfield of AI.  In deep learning, we train a neural network composed of many layers to transform an input into an output.\n",
    "\n",
    "Neural networks can't understand text directly, so GPT has to convert your prompt to numbers, make predictions, then convert the predictions back to text.  The process works like this at a very high level:\n",
    "\n",
    "![gpt steps](images/intro/gpt_steps.svg)"
   ],
   "metadata": {
    "collapsed": false
   }
  },
  {
   "cell_type": "markdown",
   "source": [
    "\n",
    "The key part of GPT is the prediction step, where the network predicts what words will come next.  To do this, the network uses its parameters.  You can think of parameters like memory.  This memory has been trained on a lot of data (gigabytes or terabytes).  Parameters enable neural networks to make accurate predictions about what should come after your prompt.\n",
    "\n",
    "The smallest GPT models have around 100M parameters, and the largest have 176B.  They use parameters to transform your input to predictions - usually by adding the parameters to your input, or multiplying your input by the parameters.\n",
    "\n",
    "By the end of this course, you'll understand how to train deep neural networks that work like GPT.  This course is split up into three parts:\n",
    "\n",
    "1. Understanding deep learning - how to create and train deep neural networks, including gradient descent and backpropagation.\n",
    "2. Deep learning for NLP - deep learning architectures to work with text, including RNNs, encoder/decoders, attention, and transformers.\n",
    "3. Scaling up models - putting together the building blocks to train a model with a large number of parameters.\n",
    "\n",
    "Check out the [README](https://github.com/VikParuchuri/zero_to_gpt/blob/master/README.md) for a full lesson overview."
   ],
   "metadata": {
    "collapsed": false
   }
  },
  {
   "cell_type": "markdown",
   "source": [
    "## Teaching method\n",
    "\n",
    "This course will get you ready to do meaningful work with deep learning.  We'll balance theory and practical application.  Without theory, you won't understand how to apply deep learning in the real world.  But theory shouldn't overwhelm - it should aid you in actually doing the work.\n",
    "\n",
    "In each lesson, you'll learn the theory behind what you're doing, and code complete implementations that solve problems.  For example, in the dense neural networks lesson, you'll learn the theory - backpropagation, why nonlinearities are useful, and how multiple layers work.  Then you'll code a complete neural network using NumPy that predicts the weather.\n",
    "\n",
    "I'll explain concepts in multiple ways - diagrams, text, code, and video.  Deep learning is complicated, and it can take multiple explanations before a concept clicks.\n",
    "\n",
    "### What this course is not\n",
    "\n",
    "- This is not a course where you'll just import PyTorch and type code without understanding what you're doing.  We'll build up your knowledge step by step.\n",
    "- This is not a mathematically rigorous course.  We'll include the math, but we'll focus on building intuition and understanding first.  For a mathematically rigorous resource, I recommend the [deep learning book](https://www.deeplearningbook.org/)."
   ],
   "metadata": {
    "collapsed": false
   }
  },
  {
   "cell_type": "markdown",
   "source": [
    "## Who am I?\n",
    "\n",
    "My name is Vik Paruchuri.  I've won ML competitions, worked as an ML engineer, and started Dataquest, which has taught data skills to 1M+ people.  Before all that, I was a self-taught programmer who dreamed of predicting the stock market.\n",
    "\n",
    "This course is for anyone dreaming of building their own deep learning models."
   ],
   "metadata": {
    "collapsed": false
   }
  },
  {
   "cell_type": "markdown",
   "source": [
    "## Prerequisites\n",
    "\n",
    "This course is designed to be accessible, with as few prereqs as possible:\n",
    "\n",
    "- You'll need to understand Python to take this course, including for loops, functions, and classes.  The first part of [this Dataquest path](https://www.dataquest.io/path/data-scientist/) will teach you what you need.\n",
    "- Experience with [NumPy](https://www.dataquest.io/course/pandas-fundamentals) and linear algebra are also necessary.  If you don't have any experience, we'll cover the basics in the [next lesson](https://github.com/VikParuchuri/zero_to_gpt/blob/master/explanations/linalg.ipynb).\n",
    "\n",
    "If you already know NumPy and the basics of linear algebra, feel free to skip to the [next lesson](https://github.com/VikParuchuri/zero_to_gpt/blob/master/explanations/linreg.ipynb)."
   ],
   "metadata": {
    "collapsed": false
   }
  }
 ],
 "metadata": {
  "kernelspec": {
   "display_name": "Python 3 (ipykernel)",
   "language": "python",
   "name": "python3"
  },
  "language_info": {
   "codemirror_mode": {
    "name": "ipython",
    "version": 3
   },
   "file_extension": ".py",
   "mimetype": "text/x-python",
   "name": "python",
   "nbconvert_exporter": "python",
   "pygments_lexer": "ipython3",
   "version": "3.10.8"
  }
 },
 "nbformat": 4,
 "nbformat_minor": 1
}
