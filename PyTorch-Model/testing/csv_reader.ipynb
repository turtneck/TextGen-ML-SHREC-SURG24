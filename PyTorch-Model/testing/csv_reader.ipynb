{
 "cells": [
  {
   "cell_type": "code",
   "execution_count": null,
   "metadata": {},
   "outputs": [],
   "source": [
    "import pandas as pd,os,re,sys"
   ]
  },
  {
   "cell_type": "code",
   "execution_count": null,
   "metadata": {},
   "outputs": [],
   "source": [
    "filename = 'D:\\\\book\\\\1M-GPT4-Augmented_edit.csv'\n",
    "df_iter = pd.read_csv(filename, iterator=True, chunksize=1)\n",
    "while True:\n",
    "    try:\n",
    "        df = next(df_iter)\n",
    "        print('aaa', sys.getsizeof(df), df.shape[0])\n",
    "        print( list(df.question)[0] )\n",
    "        input('continue')\n",
    "    except StopIteration:\n",
    "        break\n"
   ]
  },
  {
   "cell_type": "code",
   "execution_count": null,
   "metadata": {},
   "outputs": [],
   "source": [
    "filename = 'D:\\\\book\\\\1M-GPT4-Augmented_edit11.csv'\n",
    "df_iter = pd.read_csv(filename)\n",
    "print('aaa', sys.getsizeof(df_iter))\n",
    "print( list(df_iter.question) )"
   ]
  },
  {
   "cell_type": "code",
   "execution_count": null,
   "metadata": {},
   "outputs": [],
   "source": [
    "filename = 'D:\\\\book\\\\california_housing_train.csv'\n",
    "sze=0\n",
    "df_iter = pd.read_csv(filename, iterator=True, chunksize=1)\n",
    "while True:\n",
    "    try:\n",
    "        df = next(df_iter)\n",
    "        sze+=1\n",
    "    except StopIteration:\n",
    "        break\n",
    "print(sze)"
   ]
  },
  {
   "cell_type": "code",
   "execution_count": null,
   "metadata": {},
   "outputs": [],
   "source": [
    "filename = 'D:\\\\book\\\\california_housing_train.csv'\n",
    "df = pd.read_csv(filename)\n",
    "df.shape[0]"
   ]
  }
 ],
 "metadata": {
  "kernelspec": {
   "display_name": ".venv",
   "language": "python",
   "name": "python3"
  },
  "language_info": {
   "codemirror_mode": {
    "name": "ipython",
    "version": 3
   },
   "file_extension": ".py",
   "mimetype": "text/x-python",
   "name": "python",
   "nbconvert_exporter": "python",
   "pygments_lexer": "ipython3",
   "version": "3.10.7"
  }
 },
 "nbformat": 4,
 "nbformat_minor": 2
}
