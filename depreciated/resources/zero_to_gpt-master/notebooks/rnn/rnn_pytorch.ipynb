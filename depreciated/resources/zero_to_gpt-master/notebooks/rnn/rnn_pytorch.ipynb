{
 "cells": [
  {
   "cell_type": "code",
   "execution_count": 1,
   "metadata": {
    "collapsed": true
   },
   "outputs": [
    {
     "name": "stderr",
     "output_type": "stream",
     "text": [
      "/Users/vik/.virtualenvs/nnets/lib/python3.10/site-packages/tqdm/auto.py:22: TqdmWarning: IProgress not found. Please update jupyter and ipywidgets. See https://ipywidgets.readthedocs.io/en/stable/user_install.html\n",
      "  from .autonotebook import tqdm as notebook_tqdm\n"
     ]
    }
   ],
   "source": [
    "import sys\n",
    "import torch\n",
    "from torch import nn\n",
    "import os\n",
    "import numpy as np\n",
    "\n",
    "sys.path.append(os.path.abspath(\"../../data\"))\n",
    "\n",
    "DEVICE = torch.device(\"cuda\" if torch.cuda.is_available() else \"cpu\")\n",
    "BATCH_SIZE = 1"
   ]
  },
  {
   "cell_type": "code",
   "execution_count": 2,
   "outputs": [],
   "source": [
    "from csv_data import WeatherDatasetWrapperRNN\n",
    "\n",
    "class WeatherDataset(WeatherDatasetWrapperRNN):\n",
    "    predictors = [\"tmax\", \"tmin\", \"rain\"]\n",
    "    target = \"tmax_tomorrow\"\n",
    "    sequence_length = 7\n",
    "\n",
    "wrapper = WeatherDataset()\n",
    "datasets = wrapper.generate_datasets(BATCH_SIZE)"
   ],
   "metadata": {
    "collapsed": false
   }
  },
  {
   "cell_type": "code",
   "execution_count": 3,
   "outputs": [],
   "source": [
    "train = datasets[\"train\"]\n",
    "valid = datasets[\"validation\"]\n",
    "test = datasets[\"test\"]"
   ],
   "metadata": {
    "collapsed": false
   }
  },
  {
   "cell_type": "code",
   "execution_count": 12,
   "outputs": [],
   "source": [
    "class NeuralNetwork(nn.Module):\n",
    "    def __init__(self):\n",
    "        super(NeuralNetwork, self).__init__()\n",
    "        torch.manual_seed(0)\n",
    "        self.rnn = nn.RNN(3, 4, 1, batch_first=True)\n",
    "        self.dense = nn.Linear(4, 1)\n",
    "\n",
    "    def forward(self, x):\n",
    "        x, hidden = self.rnn(x)\n",
    "        x = self.dense(x)\n",
    "        return x"
   ],
   "metadata": {
    "collapsed": false
   }
  },
  {
   "cell_type": "code",
   "execution_count": 13,
   "outputs": [],
   "source": [
    "def mse(actual, predicted):\n",
    "    return torch.mean((actual-predicted)**2)"
   ],
   "metadata": {
    "collapsed": false
   }
  },
  {
   "cell_type": "code",
   "execution_count": 19,
   "outputs": [
    {
     "name": "stdout",
     "output_type": "stream",
     "text": [
      "Epoch 0 train loss: 321.328857421875 valid loss: 30.11574363708496\n",
      "Epoch 1 train loss: 25.661727905273438 valid loss: 23.002601623535156\n",
      "Epoch 2 train loss: 23.3114070892334 valid loss: 22.170818328857422\n",
      "Epoch 3 train loss: 22.823204040527344 valid loss: 21.30845069885254\n",
      "Epoch 4 train loss: 22.67506980895996 valid loss: 21.5742130279541\n",
      "Epoch 5 train loss: 22.448875427246094 valid loss: 21.318944931030273\n",
      "Epoch 6 train loss: 22.25265121459961 valid loss: 21.07511329650879\n",
      "Epoch 7 train loss: 22.150007247924805 valid loss: 20.7280216217041\n",
      "Epoch 8 train loss: 22.084850311279297 valid loss: 21.266441345214844\n",
      "Epoch 9 train loss: 22.04229164123535 valid loss: 21.165512084960938\n"
     ]
    }
   ],
   "source": [
    "model = NeuralNetwork().to(DEVICE)\n",
    "loss_fn = nn.MSELoss()\n",
    "optimizer = torch.optim.SGD(model.parameters(), lr=1e-4)\n",
    "\n",
    "EPOCHS = 10\n",
    "for epoch in range(EPOCHS):\n",
    "    epoch_loss = 0\n",
    "    for batch, (sequence, target) in enumerate(train):\n",
    "        optimizer.zero_grad()\n",
    "\n",
    "        sequence = sequence.to(DEVICE)\n",
    "        pred = model(sequence)\n",
    "\n",
    "        loss = loss_fn(pred, target)\n",
    "        loss.backward()\n",
    "        optimizer.step()\n",
    "\n",
    "        epoch_loss += mse(target, pred)\n",
    "\n",
    "    losses = []\n",
    "    with torch.no_grad():\n",
    "        valid_loss = 0\n",
    "        for batch, (sequence, target) in enumerate(valid):\n",
    "            sequence = sequence.to(DEVICE)\n",
    "            pred = model(sequence)\n",
    "            loss = loss_fn(pred, target)\n",
    "            valid_loss += mse(target, pred)\n",
    "\n",
    "    print(f\"Epoch {epoch} train loss: {epoch_loss / len(train)} valid loss: {valid_loss / len(valid)}\")"
   ],
   "metadata": {
    "collapsed": false
   }
  },
  {
   "cell_type": "code",
   "execution_count": 18,
   "outputs": [
    {
     "data": {
      "text/plain": "[('rnn.weight_ih_l0',\n  Parameter containing:\n  tensor([[-0.0031,  0.2681, -0.4111],\n          [-0.3709, -0.1920,  0.1321],\n          [-0.0104,  0.3966, -0.0446],\n          [ 0.1317, -0.1510, -0.0986]], requires_grad=True)),\n ('rnn.weight_hh_l0',\n  Parameter containing:\n  tensor([[-0.4773, -0.3309, -0.2054,  0.0188],\n          [ 0.1960,  0.2986, -0.3428, -0.2190],\n          [ 0.1814,  0.4151, -0.1033,  0.3740],\n          [-0.0809,  0.0528,  0.4521, -0.4641]], requires_grad=True)),\n ('rnn.bias_ih_l0',\n  Parameter containing:\n  tensor([-0.3163, -0.1189, -0.1941,  0.4332], requires_grad=True)),\n ('rnn.bias_hh_l0',\n  Parameter containing:\n  tensor([-0.3256, -0.2224, -0.3485, -0.4670], requires_grad=True)),\n ('dense.weight',\n  Parameter containing:\n  tensor([[-0.2950,  0.4278,  0.2163,  0.2398]], requires_grad=True)),\n ('dense.bias',\n  Parameter containing:\n  tensor([0.0388], requires_grad=True))]"
     },
     "execution_count": 18,
     "metadata": {},
     "output_type": "execute_result"
    }
   ],
   "source": [
    "[p for p in model.named_parameters()]"
   ],
   "metadata": {
    "collapsed": false
   }
  },
  {
   "cell_type": "code",
   "execution_count": null,
   "outputs": [],
   "source": [],
   "metadata": {
    "collapsed": false
   }
  }
 ],
 "metadata": {
  "kernelspec": {
   "display_name": "Python 3",
   "language": "python",
   "name": "python3"
  },
  "language_info": {
   "codemirror_mode": {
    "name": "ipython",
    "version": 2
   },
   "file_extension": ".py",
   "mimetype": "text/x-python",
   "name": "python",
   "nbconvert_exporter": "python",
   "pygments_lexer": "ipython2",
   "version": "2.7.6"
  }
 },
 "nbformat": 4,
 "nbformat_minor": 0
}
