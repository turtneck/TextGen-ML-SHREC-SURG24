{
 "cells": [
  {
   "cell_type": "code",
   "execution_count": null,
   "metadata": {},
   "outputs": [],
   "source": [
    "import torch\n",
    "import torch.nn as nn\n",
    "from torch.nn import functional as F\n",
    "import tiktoken\n",
    "import numpy as np\n",
    "import os,sys,time,datetime,re\n"
   ]
  },
  {
   "cell_type": "code",
   "execution_count": null,
   "metadata": {},
   "outputs": [],
   "source": [
    "txt = 'D:/book/gutenburg/pq1.txt'\n",
    "with open(txt, 'r', encoding=\"utf-8\") as f: data = f.readlines()[1:-1]\n",
    "data = ''.join(data)\n",
    "#cleanup\n",
    "for i in ['™']: data=data.replace(i,\"\")\n",
    "for i in ['“','”']: data=data.replace(i,'\"')\n",
    "for i in ['‘','’']: data=data.replace(i,\"'\")\n",
    "for i in ['--','---','***','�','—','\\t','_','|']: data=data.replace(i,\" \")\n",
    "data= re.sub(' {2,}',' ',data)\n",
    "data[:100]"
   ]
  },
  {
   "cell_type": "code",
   "execution_count": null,
   "metadata": {},
   "outputs": [],
   "source": [
    "encode = tiktoken.get_encoding(\"gpt2\").encode(data)\n",
    "torch.from_numpy( np.array(encode, dtype=np.int64) ).type(torch.long)"
   ]
  },
  {
   "cell_type": "code",
   "execution_count": null,
   "metadata": {},
   "outputs": [],
   "source": [
    "tiktoken.get_(\"gpt2\").n_vocab"
   ]
  },
  {
   "cell_type": "code",
   "execution_count": null,
   "metadata": {},
   "outputs": [],
   "source": [
    "tiktoken.get_encoding(\"gpt2\").encode(data)"
   ]
  }
 ],
 "metadata": {
  "kernelspec": {
   "display_name": ".venv",
   "language": "python",
   "name": "python3"
  },
  "language_info": {
   "codemirror_mode": {
    "name": "ipython",
    "version": 3
   },
   "file_extension": ".py",
   "mimetype": "text/x-python",
   "name": "python",
   "nbconvert_exporter": "python",
   "pygments_lexer": "ipython3",
   "version": "3.10.7"
  }
 },
 "nbformat": 4,
 "nbformat_minor": 2
}
