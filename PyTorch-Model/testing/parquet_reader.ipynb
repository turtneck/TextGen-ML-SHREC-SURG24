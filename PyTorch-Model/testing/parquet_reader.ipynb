{
 "cells": [
  {
   "cell_type": "code",
   "execution_count": null,
   "metadata": {},
   "outputs": [],
   "source": [
    "import pandas as pd,os,re,sys"
   ]
  },
  {
   "cell_type": "code",
   "execution_count": null,
   "metadata": {},
   "outputs": [],
   "source": [
    "import pyarrow.parquet as pq\n",
    "\n",
    "filename = 'D:\\\\book\\\\weather.2016.parquet'\n",
    "parquet_file = pq.ParquetFile(filename)\n",
    "parquet_file\n",
    "# for batch in parquet_file.iter_batches():\n",
    "#     print(\"RecordBatch\")\n",
    "#     batch_df = batch.to_pandas()\n",
    "#     # print(\"batch_df:\", batch_df)\n",
    "#     print( batch_df.question )\n"
   ]
  },
  {
   "cell_type": "code",
   "execution_count": null,
   "metadata": {},
   "outputs": [],
   "source": [
    "df = pd.read_parquet(filename) \n",
    "df.head()"
   ]
  },
  {
   "cell_type": "code",
   "execution_count": null,
   "metadata": {},
   "outputs": [],
   "source": [
    "df_iter = pd.read_parquet(filename, iterator=True, chunksize=1)\n",
    "while True:\n",
    "    try:\n",
    "        df = next(df_iter)\n",
    "        print('aaa', sys.getsizeof(df), df.shape[0])\n",
    "        # print( list(df.longitude) )\n",
    "    except StopIteration:\n",
    "        break"
   ]
  },
  {
   "cell_type": "code",
   "execution_count": null,
   "metadata": {},
   "outputs": [],
   "source": [
    "import pandas as pd\n",
    "import sys\n",
    "filename1 = 'D:\\\\book\\\\1M-GPT4-Augmented.parquet'\n",
    "df = pd.read_parquet(filename1)\n",
    "sys.getsizeof(df)"
   ]
  },
  {
   "cell_type": "code",
   "execution_count": null,
   "metadata": {},
   "outputs": [],
   "source": [
    "for index, row in df.iterrows():\n",
    "    # print(row[\"question\"], \"\\n\")\n",
    "    # Assess the size of the patch\n",
    "    patch_lines = ( row[\"question\"] + 1 )  # +1 to count the last line if it doesn't end with a newline\n",
    "    print(f\"Patch Size: {patch_lines} lines\\n\")"
   ]
  },
  {
   "cell_type": "code",
   "execution_count": null,
   "metadata": {},
   "outputs": [],
   "source": [
    "print( sys.getsizeof(df['question']) )\n",
    "print( sys.getsizeof(df['response']) )"
   ]
  },
  {
   "cell_type": "code",
   "execution_count": null,
   "metadata": {},
   "outputs": [],
   "source": [
    "import pandas as pd\n",
    "import sys\n",
    "filename1 = 'D:\\\\book\\\\1M-GPT4-Augmented.parquet'\n",
    "df = pd.read_parquet(filename1)"
   ]
  },
  {
   "cell_type": "code",
   "execution_count": null,
   "metadata": {},
   "outputs": [],
   "source": [
    "df.shape[0]"
   ]
  }
 ],
 "metadata": {
  "kernelspec": {
   "display_name": ".venv",
   "language": "python",
   "name": "python3"
  },
  "language_info": {
   "codemirror_mode": {
    "name": "ipython",
    "version": 3
   },
   "file_extension": ".py",
   "mimetype": "text/x-python",
   "name": "python",
   "nbconvert_exporter": "python",
   "pygments_lexer": "ipython3",
   "version": "3.10.7"
  }
 },
 "nbformat": 4,
 "nbformat_minor": 2
}
