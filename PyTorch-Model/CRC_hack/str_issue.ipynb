{
 "cells": [
  {
   "cell_type": "code",
   "execution_count": null,
   "metadata": {},
   "outputs": [],
   "source": [
    "import torch\n",
    "import torch.nn as nn\n",
    "from torch.nn import functional as F\n",
    "import pandas as pd\n",
    "#------------------------\n",
    "import csv,os,sys,time,datetime,multiprocessing,re\n",
    "import numpy as np\n",
    "from fun_colors import *\n",
    "\n",
    "with open(\"D:/book/gutenburg_BIN/metas/gutenburg_bin-RBT-char_meta_int64.pkl\", 'rb') as f: meta = pickle.load(f)\n",
    "stoi = meta['stoi']\n",
    "\n",
    "data='hiyaaaa'\n",
    "targets='hi'\n",
    "print('xy size',len(data),len(targets))\n",
    "\n",
    "# data = torch.from_numpy( np.array(fun_encode(list(data, stoi), dtype=np.int64) ).type(torch.long)\n",
    "# targets = torch.from_numpy( np.array(fun_encode(list(df.question)[0], stoi), dtype=np.int64) ).type(torch.long)\n"
   ]
  },
  {
   "cell_type": "code",
   "execution_count": null,
   "metadata": {},
   "outputs": [],
   "source": [
    "if len(data)>len(targets):\n",
    "    print('data bigger')\n",
    "    targets=list(targets)\n",
    "    for i in range( len(data)-len(targets) ): targets.append('')\n",
    "elif len(data)<len(targets):\n",
    "    print('data bigger')\n",
    "else:\n",
    "    print('same size')\n",
    "\n",
    "print('xy size',len(data),len(targets))"
   ]
  },
  {
   "cell_type": "code",
   "execution_count": null,
   "metadata": {},
   "outputs": [],
   "source": [
    "train_torch_prompt = torch.from_numpy( np.array(fun_encode(list(df.question)[0], self.stoi), dtype=np.int64) ).type(torch.long)\n",
    "\n",
    "\n",
    "print('x:',torch.stack([data for i in range(2)]) )\n",
    "print('y:',torch.stack([targets for i in range(2)]) )\n"
   ]
  },
  {
   "cell_type": "code",
   "execution_count": null,
   "metadata": {},
   "outputs": [],
   "source": [
    "with open(\"D:/book/gutenburg_BIN/metas/gutenburg_bin-RBT-char_meta_int64.pkl\", 'rb') as f: meta = pickle.load(f)\n",
    "print( meta )\n",
    "print( meta['vocab_size'] )\n",
    "print( meta['itos'] )\n",
    "print( meta['stoi'] )\n",
    "print( meta['int'] )\n",
    "\n",
    "\n",
    "arr= sorted_byVAL('D:/book/gutenDICT-RBT/char/gutenburg_dict-RBT-char.bin')\n",
    "print(arr[:25])\n",
    "\n",
    "arr.append('')\n",
    "#------------------------\n",
    "#enumerate list\n",
    "stoi = { ch:i for i,ch in enumerate(arr) }\n",
    "itos = { i:ch for i,ch in enumerate(arr) }\n",
    "\n",
    "meta2 = { 'vocab_size': len(arr), 'itos': itos, 'stoi': stoi, 'int': 64 }\n",
    "print( meta2 )\n",
    "print( meta2['vocab_size'] )\n",
    "print( meta2['itos'] )\n",
    "print( meta2['stoi'] )\n",
    "print( meta2['int'] )\n",
    "\n",
    "print( meta['vocab_size'] == meta2['vocab_size'])\n",
    "print( meta['itos'] == meta2['itos'])\n",
    "print( meta['stoi'] == meta2['stoi'])\n",
    "print( meta['int'] == meta2['int'])\n",
    "\n",
    "\n",
    "\n",
    "with open('D:/book\\gutenburg_bin-promptfriendly-char_meta_int64.pkl', 'wb') as f: pickle.dump(meta2, f)"
   ]
  }
 ],
 "metadata": {
  "kernelspec": {
   "display_name": ".venv",
   "language": "python",
   "name": "python3"
  },
  "language_info": {
   "codemirror_mode": {
    "name": "ipython",
    "version": 3
   },
   "file_extension": ".py",
   "mimetype": "text/x-python",
   "name": "python",
   "nbconvert_exporter": "python",
   "pygments_lexer": "ipython3",
   "version": "3.10.7"
  }
 },
 "nbformat": 4,
 "nbformat_minor": 2
}
